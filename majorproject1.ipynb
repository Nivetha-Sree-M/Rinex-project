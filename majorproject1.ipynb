{
  "nbformat": 4,
  "nbformat_minor": 0,
  "metadata": {
    "colab": {
      "provenance": [],
      "authorship_tag": "ABX9TyODA7bOUDfXs5qdHMSOBPgs",
      "include_colab_link": true
    },
    "kernelspec": {
      "name": "python3",
      "display_name": "Python 3"
    },
    "language_info": {
      "name": "python"
    }
  },
  "cells": [
    {
      "cell_type": "markdown",
      "metadata": {
        "id": "view-in-github",
        "colab_type": "text"
      },
      "source": [
        "<a href=\"https://colab.research.google.com/github/Nivetha-Sree-M/Rinex-project/blob/main/majorproject1.ipynb\" target=\"_parent\"><img src=\"https://colab.research.google.com/assets/colab-badge.svg\" alt=\"Open In Colab\"/></a>"
      ]
    },
    {
      "cell_type": "code",
      "execution_count": null,
      "metadata": {
        "id": "Z_nlbxVrHv6W"
      },
      "outputs": [],
      "source": [
        "#Major Project 1\n",
        "#Choose any dataset of your choice and apply a suitable CLASSIFIER/REGRESSOR .\n",
        "#Dataset:https://www.kaggle.com/datasets/dhamur/airtel-prepaid"
      ]
    },
    {
      "cell_type": "code",
      "source": [
        "#1. importing library and creating dataframe\n",
        "import pandas as pd\n",
        "df = pd.read_csv('/content/Airtel Prepaid.csv')\n",
        "df"
      ],
      "metadata": {
        "colab": {
          "base_uri": "https://localhost:8080/",
          "height": 927
        },
        "id": "LT2O0K2mtgGQ",
        "outputId": "0bae3c5a-be58-49d2-ecc1-fc98af399960"
      },
      "execution_count": 2,
      "outputs": [
        {
          "output_type": "execute_result",
          "data": {
            "text/plain": [
              "    Price  Data(GB) per Day  Data(GB)  Days         Additional Benefits\n",
              "0    3359               2.5         0   365     Disney + Hotstar 1 year\n",
              "1    2999               2.0         0   365                           0\n",
              "2     999               2.5         0    84     Amazon prime membership\n",
              "3     839               2.0         0    84   Disney + Hotstar 3 Months\n",
              "4     719               1.5         0    84                           0\n",
              "5     699               3.0         0    56     Amazon prime membership\n",
              "6     666               1.5         0    77                           0\n",
              "7     599               3.0         0    28     Disney + Hotstar 1 year\n",
              "8     549               2.0         0    56                           0\n",
              "9     499               2.0         0    28     Disney + Hotstar 1 year\n",
              "10    479               1.5         0    56                           0\n",
              "11    455               0.0         6    84                           0\n",
              "12    399               2.5         0    28   Disney + Hotstar 3 Months\n",
              "13    359               2.0         0    28  Prime video mobile edition\n",
              "14    319               2.0         0    30                           0\n",
              "15    299               1.5         0    28                           0\n",
              "16    296               0.0        25    30                           0\n",
              "17    265               1.0         0    28             Free hellotunes\n",
              "18    239               1.0         0    24             Free hellotunes\n",
              "19    209               1.0         0    21             Free hellotunes\n",
              "20    179               2.0         0    28             Free hellotunes\n",
              "21    155               1.0         0    24             Free hellotunes\n",
              "22    399               2.5         0    28   Disney + Hotstar 3 Months\n",
              "23    839               2.0         0    84   Disney + Hotstar 3 Months\n",
              "24    499               2.0         0    28     Disney + Hotstar 1 year\n",
              "25    599               3.0         0    28     Disney + Hotstar 1 year\n",
              "26   3359               2.5         0   365     Disney + Hotstar 1 year\n",
              "27   1799               0.0        24   365                           0"
            ],
            "text/html": [
              "\n",
              "  <div id=\"df-c1bb0290-b9c0-41d3-a585-9da9327f085d\">\n",
              "    <div class=\"colab-df-container\">\n",
              "      <div>\n",
              "<style scoped>\n",
              "    .dataframe tbody tr th:only-of-type {\n",
              "        vertical-align: middle;\n",
              "    }\n",
              "\n",
              "    .dataframe tbody tr th {\n",
              "        vertical-align: top;\n",
              "    }\n",
              "\n",
              "    .dataframe thead th {\n",
              "        text-align: right;\n",
              "    }\n",
              "</style>\n",
              "<table border=\"1\" class=\"dataframe\">\n",
              "  <thead>\n",
              "    <tr style=\"text-align: right;\">\n",
              "      <th></th>\n",
              "      <th>Price</th>\n",
              "      <th>Data(GB) per Day</th>\n",
              "      <th>Data(GB)</th>\n",
              "      <th>Days</th>\n",
              "      <th>Additional Benefits</th>\n",
              "    </tr>\n",
              "  </thead>\n",
              "  <tbody>\n",
              "    <tr>\n",
              "      <th>0</th>\n",
              "      <td>3359</td>\n",
              "      <td>2.5</td>\n",
              "      <td>0</td>\n",
              "      <td>365</td>\n",
              "      <td>Disney + Hotstar 1 year</td>\n",
              "    </tr>\n",
              "    <tr>\n",
              "      <th>1</th>\n",
              "      <td>2999</td>\n",
              "      <td>2.0</td>\n",
              "      <td>0</td>\n",
              "      <td>365</td>\n",
              "      <td>0</td>\n",
              "    </tr>\n",
              "    <tr>\n",
              "      <th>2</th>\n",
              "      <td>999</td>\n",
              "      <td>2.5</td>\n",
              "      <td>0</td>\n",
              "      <td>84</td>\n",
              "      <td>Amazon prime membership</td>\n",
              "    </tr>\n",
              "    <tr>\n",
              "      <th>3</th>\n",
              "      <td>839</td>\n",
              "      <td>2.0</td>\n",
              "      <td>0</td>\n",
              "      <td>84</td>\n",
              "      <td>Disney + Hotstar 3 Months</td>\n",
              "    </tr>\n",
              "    <tr>\n",
              "      <th>4</th>\n",
              "      <td>719</td>\n",
              "      <td>1.5</td>\n",
              "      <td>0</td>\n",
              "      <td>84</td>\n",
              "      <td>0</td>\n",
              "    </tr>\n",
              "    <tr>\n",
              "      <th>5</th>\n",
              "      <td>699</td>\n",
              "      <td>3.0</td>\n",
              "      <td>0</td>\n",
              "      <td>56</td>\n",
              "      <td>Amazon prime membership</td>\n",
              "    </tr>\n",
              "    <tr>\n",
              "      <th>6</th>\n",
              "      <td>666</td>\n",
              "      <td>1.5</td>\n",
              "      <td>0</td>\n",
              "      <td>77</td>\n",
              "      <td>0</td>\n",
              "    </tr>\n",
              "    <tr>\n",
              "      <th>7</th>\n",
              "      <td>599</td>\n",
              "      <td>3.0</td>\n",
              "      <td>0</td>\n",
              "      <td>28</td>\n",
              "      <td>Disney + Hotstar 1 year</td>\n",
              "    </tr>\n",
              "    <tr>\n",
              "      <th>8</th>\n",
              "      <td>549</td>\n",
              "      <td>2.0</td>\n",
              "      <td>0</td>\n",
              "      <td>56</td>\n",
              "      <td>0</td>\n",
              "    </tr>\n",
              "    <tr>\n",
              "      <th>9</th>\n",
              "      <td>499</td>\n",
              "      <td>2.0</td>\n",
              "      <td>0</td>\n",
              "      <td>28</td>\n",
              "      <td>Disney + Hotstar 1 year</td>\n",
              "    </tr>\n",
              "    <tr>\n",
              "      <th>10</th>\n",
              "      <td>479</td>\n",
              "      <td>1.5</td>\n",
              "      <td>0</td>\n",
              "      <td>56</td>\n",
              "      <td>0</td>\n",
              "    </tr>\n",
              "    <tr>\n",
              "      <th>11</th>\n",
              "      <td>455</td>\n",
              "      <td>0.0</td>\n",
              "      <td>6</td>\n",
              "      <td>84</td>\n",
              "      <td>0</td>\n",
              "    </tr>\n",
              "    <tr>\n",
              "      <th>12</th>\n",
              "      <td>399</td>\n",
              "      <td>2.5</td>\n",
              "      <td>0</td>\n",
              "      <td>28</td>\n",
              "      <td>Disney + Hotstar 3 Months</td>\n",
              "    </tr>\n",
              "    <tr>\n",
              "      <th>13</th>\n",
              "      <td>359</td>\n",
              "      <td>2.0</td>\n",
              "      <td>0</td>\n",
              "      <td>28</td>\n",
              "      <td>Prime video mobile edition</td>\n",
              "    </tr>\n",
              "    <tr>\n",
              "      <th>14</th>\n",
              "      <td>319</td>\n",
              "      <td>2.0</td>\n",
              "      <td>0</td>\n",
              "      <td>30</td>\n",
              "      <td>0</td>\n",
              "    </tr>\n",
              "    <tr>\n",
              "      <th>15</th>\n",
              "      <td>299</td>\n",
              "      <td>1.5</td>\n",
              "      <td>0</td>\n",
              "      <td>28</td>\n",
              "      <td>0</td>\n",
              "    </tr>\n",
              "    <tr>\n",
              "      <th>16</th>\n",
              "      <td>296</td>\n",
              "      <td>0.0</td>\n",
              "      <td>25</td>\n",
              "      <td>30</td>\n",
              "      <td>0</td>\n",
              "    </tr>\n",
              "    <tr>\n",
              "      <th>17</th>\n",
              "      <td>265</td>\n",
              "      <td>1.0</td>\n",
              "      <td>0</td>\n",
              "      <td>28</td>\n",
              "      <td>Free hellotunes</td>\n",
              "    </tr>\n",
              "    <tr>\n",
              "      <th>18</th>\n",
              "      <td>239</td>\n",
              "      <td>1.0</td>\n",
              "      <td>0</td>\n",
              "      <td>24</td>\n",
              "      <td>Free hellotunes</td>\n",
              "    </tr>\n",
              "    <tr>\n",
              "      <th>19</th>\n",
              "      <td>209</td>\n",
              "      <td>1.0</td>\n",
              "      <td>0</td>\n",
              "      <td>21</td>\n",
              "      <td>Free hellotunes</td>\n",
              "    </tr>\n",
              "    <tr>\n",
              "      <th>20</th>\n",
              "      <td>179</td>\n",
              "      <td>2.0</td>\n",
              "      <td>0</td>\n",
              "      <td>28</td>\n",
              "      <td>Free hellotunes</td>\n",
              "    </tr>\n",
              "    <tr>\n",
              "      <th>21</th>\n",
              "      <td>155</td>\n",
              "      <td>1.0</td>\n",
              "      <td>0</td>\n",
              "      <td>24</td>\n",
              "      <td>Free hellotunes</td>\n",
              "    </tr>\n",
              "    <tr>\n",
              "      <th>22</th>\n",
              "      <td>399</td>\n",
              "      <td>2.5</td>\n",
              "      <td>0</td>\n",
              "      <td>28</td>\n",
              "      <td>Disney + Hotstar 3 Months</td>\n",
              "    </tr>\n",
              "    <tr>\n",
              "      <th>23</th>\n",
              "      <td>839</td>\n",
              "      <td>2.0</td>\n",
              "      <td>0</td>\n",
              "      <td>84</td>\n",
              "      <td>Disney + Hotstar 3 Months</td>\n",
              "    </tr>\n",
              "    <tr>\n",
              "      <th>24</th>\n",
              "      <td>499</td>\n",
              "      <td>2.0</td>\n",
              "      <td>0</td>\n",
              "      <td>28</td>\n",
              "      <td>Disney + Hotstar 1 year</td>\n",
              "    </tr>\n",
              "    <tr>\n",
              "      <th>25</th>\n",
              "      <td>599</td>\n",
              "      <td>3.0</td>\n",
              "      <td>0</td>\n",
              "      <td>28</td>\n",
              "      <td>Disney + Hotstar 1 year</td>\n",
              "    </tr>\n",
              "    <tr>\n",
              "      <th>26</th>\n",
              "      <td>3359</td>\n",
              "      <td>2.5</td>\n",
              "      <td>0</td>\n",
              "      <td>365</td>\n",
              "      <td>Disney + Hotstar 1 year</td>\n",
              "    </tr>\n",
              "    <tr>\n",
              "      <th>27</th>\n",
              "      <td>1799</td>\n",
              "      <td>0.0</td>\n",
              "      <td>24</td>\n",
              "      <td>365</td>\n",
              "      <td>0</td>\n",
              "    </tr>\n",
              "  </tbody>\n",
              "</table>\n",
              "</div>\n",
              "      <button class=\"colab-df-convert\" onclick=\"convertToInteractive('df-c1bb0290-b9c0-41d3-a585-9da9327f085d')\"\n",
              "              title=\"Convert this dataframe to an interactive table.\"\n",
              "              style=\"display:none;\">\n",
              "        \n",
              "  <svg xmlns=\"http://www.w3.org/2000/svg\" height=\"24px\"viewBox=\"0 0 24 24\"\n",
              "       width=\"24px\">\n",
              "    <path d=\"M0 0h24v24H0V0z\" fill=\"none\"/>\n",
              "    <path d=\"M18.56 5.44l.94 2.06.94-2.06 2.06-.94-2.06-.94-.94-2.06-.94 2.06-2.06.94zm-11 1L8.5 8.5l.94-2.06 2.06-.94-2.06-.94L8.5 2.5l-.94 2.06-2.06.94zm10 10l.94 2.06.94-2.06 2.06-.94-2.06-.94-.94-2.06-.94 2.06-2.06.94z\"/><path d=\"M17.41 7.96l-1.37-1.37c-.4-.4-.92-.59-1.43-.59-.52 0-1.04.2-1.43.59L10.3 9.45l-7.72 7.72c-.78.78-.78 2.05 0 2.83L4 21.41c.39.39.9.59 1.41.59.51 0 1.02-.2 1.41-.59l7.78-7.78 2.81-2.81c.8-.78.8-2.07 0-2.86zM5.41 20L4 18.59l7.72-7.72 1.47 1.35L5.41 20z\"/>\n",
              "  </svg>\n",
              "      </button>\n",
              "      \n",
              "  <style>\n",
              "    .colab-df-container {\n",
              "      display:flex;\n",
              "      flex-wrap:wrap;\n",
              "      gap: 12px;\n",
              "    }\n",
              "\n",
              "    .colab-df-convert {\n",
              "      background-color: #E8F0FE;\n",
              "      border: none;\n",
              "      border-radius: 50%;\n",
              "      cursor: pointer;\n",
              "      display: none;\n",
              "      fill: #1967D2;\n",
              "      height: 32px;\n",
              "      padding: 0 0 0 0;\n",
              "      width: 32px;\n",
              "    }\n",
              "\n",
              "    .colab-df-convert:hover {\n",
              "      background-color: #E2EBFA;\n",
              "      box-shadow: 0px 1px 2px rgba(60, 64, 67, 0.3), 0px 1px 3px 1px rgba(60, 64, 67, 0.15);\n",
              "      fill: #174EA6;\n",
              "    }\n",
              "\n",
              "    [theme=dark] .colab-df-convert {\n",
              "      background-color: #3B4455;\n",
              "      fill: #D2E3FC;\n",
              "    }\n",
              "\n",
              "    [theme=dark] .colab-df-convert:hover {\n",
              "      background-color: #434B5C;\n",
              "      box-shadow: 0px 1px 3px 1px rgba(0, 0, 0, 0.15);\n",
              "      filter: drop-shadow(0px 1px 2px rgba(0, 0, 0, 0.3));\n",
              "      fill: #FFFFFF;\n",
              "    }\n",
              "  </style>\n",
              "\n",
              "      <script>\n",
              "        const buttonEl =\n",
              "          document.querySelector('#df-c1bb0290-b9c0-41d3-a585-9da9327f085d button.colab-df-convert');\n",
              "        buttonEl.style.display =\n",
              "          google.colab.kernel.accessAllowed ? 'block' : 'none';\n",
              "\n",
              "        async function convertToInteractive(key) {\n",
              "          const element = document.querySelector('#df-c1bb0290-b9c0-41d3-a585-9da9327f085d');\n",
              "          const dataTable =\n",
              "            await google.colab.kernel.invokeFunction('convertToInteractive',\n",
              "                                                     [key], {});\n",
              "          if (!dataTable) return;\n",
              "\n",
              "          const docLinkHtml = 'Like what you see? Visit the ' +\n",
              "            '<a target=\"_blank\" href=https://colab.research.google.com/notebooks/data_table.ipynb>data table notebook</a>'\n",
              "            + ' to learn more about interactive tables.';\n",
              "          element.innerHTML = '';\n",
              "          dataTable['output_type'] = 'display_data';\n",
              "          await google.colab.output.renderOutput(dataTable, element);\n",
              "          const docLink = document.createElement('div');\n",
              "          docLink.innerHTML = docLinkHtml;\n",
              "          element.appendChild(docLink);\n",
              "        }\n",
              "      </script>\n",
              "    </div>\n",
              "  </div>\n",
              "  "
            ]
          },
          "metadata": {},
          "execution_count": 2
        }
      ]
    },
    {
      "cell_type": "code",
      "source": [
        "#2. Preprocessing – Filtering of Data ( Data Cleaning, Encoding, Dropping values, Missing values )\n",
        "x= df.iloc[:,:-1].values   \n"
      ],
      "metadata": {
        "id": "pWWz9ZIrtu_I"
      },
      "execution_count": 3,
      "outputs": []
    },
    {
      "cell_type": "code",
      "source": [
        "#Encoding\n",
        "from sklearn.preprocessing import LabelEncoder  \n",
        "label_encoder_x= LabelEncoder()  \n",
        "x[:, 0]= label_encoder_x.fit_transform(x[:, 0])  "
      ],
      "metadata": {
        "id": "nZ5WVusvgvrA"
      },
      "execution_count": 4,
      "outputs": []
    },
    {
      "cell_type": "code",
      "source": [
        "#3. Data Visualization\n",
        "import matplotlib.pyplot as plt\n",
        "plt.scatter(df['Days'],df['Data(GB) per Day'])\n",
        "plt.title('Days vs Data(GB) per Day')\n",
        "plt.ylabel('Data(GB) per Day')\n",
        "plt.xlabel('Days')"
      ],
      "metadata": {
        "colab": {
          "base_uri": "https://localhost:8080/",
          "height": 312
        },
        "id": "I8WDxsHug8s1",
        "outputId": "a268d55c-6659-4834-b973-af9fc634ed93"
      },
      "execution_count": 5,
      "outputs": [
        {
          "output_type": "execute_result",
          "data": {
            "text/plain": [
              "Text(0.5, 0, 'Days')"
            ]
          },
          "metadata": {},
          "execution_count": 5
        },
        {
          "output_type": "display_data",
          "data": {
            "text/plain": [
              "<Figure size 432x288 with 1 Axes>"
            ],
            "image/png": "[encoded data removed]"
          },
          "metadata": {
            "needs_background": "light"
          }
        }
      ]
    },
    {
      "cell_type": "code",
      "source": [
        "#4. Divide into Input and Output (x – i/p , y-o/p)\n",
        "x = df.iloc[:,3:4].values\n",
        "x\n"
      ],
      "metadata": {
        "colab": {
          "base_uri": "https://localhost:8080/"
        },
        "id": "qWGWYVcqh02O",
        "outputId": "4485db08-5382-4e55-a734-e9419d6891fb"
      },
      "execution_count": 6,
      "outputs": [
        {
          "output_type": "execute_result",
          "data": {
            "text/plain": [
              "array([[365],\n",
              "       [365],\n",
              "       [ 84],\n",
              "       [ 84],\n",
              "       [ 84],\n",
              "       [ 56],\n",
              "       [ 77],\n",
              "       [ 28],\n",
              "       [ 56],\n",
              "       [ 28],\n",
              "       [ 56],\n",
              "       [ 84],\n",
              "       [ 28],\n",
              "       [ 28],\n",
              "       [ 30],\n",
              "       [ 28],\n",
              "       [ 30],\n",
              "       [ 28],\n",
              "       [ 24],\n",
              "       [ 21],\n",
              "       [ 28],\n",
              "       [ 24],\n",
              "       [ 28],\n",
              "       [ 84],\n",
              "       [ 28],\n",
              "       [ 28],\n",
              "       [365],\n",
              "       [365]])"
            ]
          },
          "metadata": {},
          "execution_count": 6
        }
      ]
    },
    {
      "cell_type": "code",
      "source": [
        "y = df.iloc[:,3].values\n",
        "y"
      ],
      "metadata": {
        "colab": {
          "base_uri": "https://localhost:8080/"
        },
        "id": "8LPa83vkjDro",
        "outputId": "93e385d5-a00e-408b-ac92-8b1c4cae40b4"
      },
      "execution_count": 7,
      "outputs": [
        {
          "output_type": "execute_result",
          "data": {
            "text/plain": [
              "array([365, 365,  84,  84,  84,  56,  77,  28,  56,  28,  56,  84,  28,\n",
              "        28,  30,  28,  30,  28,  24,  21,  28,  24,  28,  84,  28,  28,\n",
              "       365, 365])"
            ]
          },
          "metadata": {},
          "execution_count": 7
        }
      ]
    },
    {
      "cell_type": "code",
      "source": [
        "#5. Train and Test Variables\n",
        "from sklearn.model_selection import train_test_split  \n",
        "x_train, x_test, y_train, y_test= train_test_split(x, y, random_state=0)  \n"
      ],
      "metadata": {
        "id": "IiWmmojvj8jI"
      },
      "execution_count": 8,
      "outputs": []
    },
    {
      "cell_type": "code",
      "source": [
        "print(x.shape) \n",
        "print(x_train.shape)\n",
        "print(x_test.shape)"
      ],
      "metadata": {
        "colab": {
          "base_uri": "https://localhost:8080/"
        },
        "id": "t6ShQjYkk4gI",
        "outputId": "6aab4132-e86f-47d4-cec4-e7a1cb65ec7c"
      },
      "execution_count": 9,
      "outputs": [
        {
          "output_type": "stream",
          "name": "stdout",
          "text": [
            "(28, 1)\n",
            "(21, 1)\n",
            "(7, 1)\n"
          ]
        }
      ]
    },
    {
      "cell_type": "code",
      "source": [
        "print(y.shape) \n",
        "print(y_train.shape) \n",
        "print(y_test.shape)"
      ],
      "metadata": {
        "colab": {
          "base_uri": "https://localhost:8080/"
        },
        "id": "2zdiaIEsl9sq",
        "outputId": "552cb4a0-157e-406b-bc50-5752a56521d3"
      },
      "execution_count": 10,
      "outputs": [
        {
          "output_type": "stream",
          "name": "stdout",
          "text": [
            "(28,)\n",
            "(21,)\n",
            "(7,)\n"
          ]
        }
      ]
    },
    {
      "cell_type": "code",
      "source": [
        "#7. Run a Classifier/Regressor/Clusterer "
      ],
      "metadata": {
        "id": "yKM-hyx-mD6a"
      },
      "execution_count": null,
      "outputs": []
    },
    {
      "cell_type": "code",
      "source": [
        "from sklearn.linear_model import LinearRegression\n",
        "model = LinearRegression()\n"
      ],
      "metadata": {
        "id": "Qux6lRVRpKb-"
      },
      "execution_count": 16,
      "outputs": []
    },
    {
      "cell_type": "code",
      "source": [
        "#8. Fit the model\n",
        "model.fit(x,y)\n"
      ],
      "metadata": {
        "colab": {
          "base_uri": "https://localhost:8080/"
        },
        "id": "laUrrUaFpOPd",
        "outputId": "79efe1d7-ea3e-401b-d49a-7a186e687b65"
      },
      "execution_count": 17,
      "outputs": [
        {
          "output_type": "execute_result",
          "data": {
            "text/plain": [
              "LinearRegression()"
            ]
          },
          "metadata": {},
          "execution_count": 17
        }
      ]
    },
    {
      "cell_type": "code",
      "source": [
        "y_pred = model.predict(x) #Using the input values, predicting the output\n",
        "y_pred "
      ],
      "metadata": {
        "colab": {
          "base_uri": "https://localhost:8080/"
        },
        "id": "h186fhfwpS2B",
        "outputId": "ae53bcd7-83f9-43e4-c4e5-04ca5fdc82be"
      },
      "execution_count": 18,
      "outputs": [
        {
          "output_type": "execute_result",
          "data": {
            "text/plain": [
              "array([365., 365.,  84.,  84.,  84.,  56.,  77.,  28.,  56.,  28.,  56.,\n",
              "        84.,  28.,  28.,  30.,  28.,  30.,  28.,  24.,  21.,  28.,  24.,\n",
              "        28.,  84.,  28.,  28., 365., 365.])"
            ]
          },
          "metadata": {},
          "execution_count": 18
        }
      ]
    },
    {
      "cell_type": "code",
      "source": [
        "y\n"
      ],
      "metadata": {
        "colab": {
          "base_uri": "https://localhost:8080/"
        },
        "id": "rGune98Kpmdz",
        "outputId": "8e9459a9-ed76-4842-b37a-c58c80bfe9ae"
      },
      "execution_count": 19,
      "outputs": [
        {
          "output_type": "execute_result",
          "data": {
            "text/plain": [
              "array([365, 365,  84,  84,  84,  56,  77,  28,  56,  28,  56,  84,  28,\n",
              "        28,  30,  28,  30,  28,  24,  21,  28,  24,  28,  84,  28,  28,\n",
              "       365, 365])"
            ]
          },
          "metadata": {},
          "execution_count": 19
        }
      ]
    },
    {
      "cell_type": "code",
      "source": [
        "#Predict the output\n",
        "model.predict([[84]])"
      ],
      "metadata": {
        "colab": {
          "base_uri": "https://localhost:8080/"
        },
        "id": "nIq5scl6prNU",
        "outputId": "97bf4e22-8715-49b4-b65d-6a8b1ff0126f"
      },
      "execution_count": 21,
      "outputs": [
        {
          "output_type": "execute_result",
          "data": {
            "text/plain": [
              "array([84.])"
            ]
          },
          "metadata": {},
          "execution_count": 21
        }
      ]
    },
    {
      "cell_type": "code",
      "source": [
        "m = model.coef_ #slope(m)\n",
        "m"
      ],
      "metadata": {
        "colab": {
          "base_uri": "https://localhost:8080/"
        },
        "id": "3y3GF6k3pyhO",
        "outputId": "1f41a711-a9d8-4b6f-e250-75b12e77a604"
      },
      "execution_count": 22,
      "outputs": [
        {
          "output_type": "execute_result",
          "data": {
            "text/plain": [
              "array([1.])"
            ]
          },
          "metadata": {},
          "execution_count": 22
        }
      ]
    },
    {
      "cell_type": "code",
      "source": [
        "C = model.intercept_ # constant/y-intercept\n",
        "C"
      ],
      "metadata": {
        "colab": {
          "base_uri": "https://localhost:8080/"
        },
        "id": "QPivlzGVrdJG",
        "outputId": "2b412eaf-59b8-42a5-8ae9-0eb358c91e1a"
      },
      "execution_count": 23,
      "outputs": [
        {
          "output_type": "execute_result",
          "data": {
            "text/plain": [
              "1.4210854715202004e-14"
            ]
          },
          "metadata": {},
          "execution_count": 23
        }
      ]
    },
    {
      "cell_type": "code",
      "source": [
        "m*2000 + C      #y = mx+c\n"
      ],
      "metadata": {
        "colab": {
          "base_uri": "https://localhost:8080/"
        },
        "id": "GLIkSGC_riPf",
        "outputId": "cef9d91f-d4c8-4823-a2c8-213aa6ac5eb3"
      },
      "execution_count": 24,
      "outputs": [
        {
          "output_type": "execute_result",
          "data": {
            "text/plain": [
              "array([2000.])"
            ]
          },
          "metadata": {},
          "execution_count": 24
        }
      ]
    },
    {
      "cell_type": "code",
      "source": [
        "#10. Visualization of the result \n",
        "plt.scatter(x,y)\n",
        "plt.plot(x,y_pred,c = 'orange')\n",
        "plt.title('BEST FIT LINE')\n",
        "plt.xlabel('Days')\n",
        "plt.ylabel('Data(GB) per day')"
      ],
      "metadata": {
        "colab": {
          "base_uri": "https://localhost:8080/",
          "height": 312
        },
        "id": "zNVi8wH7rtzN",
        "outputId": "e5407972-4b90-413e-def3-26ac4e406776"
      },
      "execution_count": 26,
      "outputs": [
        {
          "output_type": "execute_result",
          "data": {
            "text/plain": [
              "Text(0, 0.5, 'Data(GB) per day')"
            ]
          },
          "metadata": {},
          "execution_count": 26
        },
        {
          "output_type": "display_data",
          "data": {
            "text/plain": [
              "<Figure size 432x288 with 1 Axes>"
            ],
            "image/png": "[encoded data removed]"
          },
          "metadata": {
            "needs_background": "light"
          }
        }
      ]
    },
    {
      "cell_type": "code",
      "source": [
        "\n"
      ],
      "metadata": {
        "id": "8cl2k6-dry14"
      },
      "execution_count": null,
      "outputs": []
    },
    {
      "cell_type": "code",
      "source": [],
      "metadata": {
        "id": "w67kIxgCubCv"
      },
      "execution_count": null,
      "outputs": []
    }
  ]
}